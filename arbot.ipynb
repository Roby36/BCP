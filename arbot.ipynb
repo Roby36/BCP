{
 "cells": [
  {
   "cell_type": "markdown",
   "metadata": {},
   "source": [
    "### Imports"
   ]
  },
  {
   "cell_type": "code",
   "execution_count": null,
   "metadata": {},
   "outputs": [],
   "source": [
    "from decimal import Decimal\n",
    "from collections import defaultdict\n",
    "from dataclasses import dataclass\n",
    "from typing import Dict, List, Generic, TypeVar, Optional\n",
    "import math\n",
    "from copy import deepcopy\n",
    "from web3 import Web3\n",
    "import json\n",
    "import requests"
   ]
  },
  {
   "cell_type": "markdown",
   "metadata": {},
   "source": [
    "### Retrieving Snapshot of Uniswap V2 from TheGraph API "
   ]
  },
  {
   "cell_type": "markdown",
   "metadata": {},
   "source": [
    "#### Query to retrieve the most recently-added liquidity pools"
   ]
  },
  {
   "cell_type": "code",
   "execution_count": null,
   "metadata": {},
   "outputs": [],
   "source": [
    "import requests\n",
    "\n",
    "query = \"\"\"\n",
    "{\n",
    "  pairs(first: 5, orderBy: createdAtTimestamp, orderDirection: desc) {\n",
    "    id\n",
    "    token0 {\n",
    "      symbol\n",
    "    }\n",
    "    token1 {\n",
    "      symbol\n",
    "    }\n",
    "    createdAtTimestamp\n",
    "  }\n",
    "}\n",
    "\"\"\"\n",
    "\n",
    "thegraph_api_key = \"87f5f40272b70e9df2648af0cf52b619\"\n",
    "\n",
    "headers = {\n",
    "    \"Authorization\": f\"Bearer {thegraph_api_key}\",\n",
    "    \"Content-Type\": \"application/json\"\n",
    "}\n",
    "\n",
    "# UNISWAP V2 Mainnet\n",
    "thegraph_url = \"https://gateway.thegraph.com/api/subgraphs/id/A3Np3RQbaBA6oKJgiwDJeo5T3zrYfGHPWFYayMwtNDum\"\n",
    "\n",
    "# Then compare w/ UNISWAP V2 Arbitrium...\n",
    "\n",
    "response = requests.post(thegraph_url, json={'query': query}, headers=headers)\n",
    "\n",
    "data = response.json()\n"
   ]
  },
  {
   "cell_type": "code",
   "execution_count": null,
   "metadata": {},
   "outputs": [],
   "source": [
    "# Get reserve info on some pair\n",
    "\n",
    "some_pair_id = data[\"data\"][\"pairs\"][0][\"id\"]\n",
    "\n",
    "query = f\"\"\"\n",
    "{{\n",
    "  pair(id: \"{some_pair_id}\") {{\n",
    "    token0 {{ symbol name decimals id }}\n",
    "    token1 {{ symbol name decimals id }}\n",
    "    reserve0\n",
    "    reserve1\n",
    "    token0Price\n",
    "    token1Price\n",
    "    reserveUSD\n",
    "    volumeUSD\n",
    "    txCount\n",
    "  }}\n",
    "}}\n",
    "\"\"\"\n",
    "\n",
    "response = requests.post(url, json={'query': query}, headers=headers)\n",
    "\n",
    "pair_data = response.json()"
   ]
  },
  {
   "cell_type": "markdown",
   "metadata": {},
   "source": [
    "#### Query to retrieve all pairs currently on Uniswap V2"
   ]
  },
  {
   "cell_type": "code",
   "execution_count": null,
   "metadata": {},
   "outputs": [],
   "source": [
    "# 2.1 Query to get total number of pairs\n",
    "\n",
    "factory_query = \"\"\"\n",
    "{\n",
    "  uniswapFactories(\n",
    "    first: 1,\n",
    "    where: { id: \"0x5C69bEe701ef814a2B6a3EDD4B1652CB9cc5aA6f\" }\n",
    "  ) {\n",
    "    id\n",
    "    pairCount\n",
    "    totalVolumeUSD\n",
    "  }\n",
    "}\n",
    "\"\"\"\n",
    "\n",
    "resp = requests.post(url=thegraph_url, json={\"query\": factory_query}, headers=headers)\n",
    "pair_count = int(resp.json()[\"data\"][\"uniswapFactories\"][0][\"pairCount\"])\n",
    "pair_count"
   ]
  },
  {
   "cell_type": "code",
   "execution_count": null,
   "metadata": {},
   "outputs": [],
   "source": [
    "# 2.2 Queries to retrieve pair information\n",
    "\n",
    "PAGE_SIZE = 1000\n",
    "all_pairs = []\n",
    "\n",
    "fields = \"\"\"\n",
    "id\n",
    "createdAtTimestamp\n",
    "createdAtBlockNumber\n",
    "token0 { id symbol decimals }\n",
    "token1 { id symbol decimals }\n",
    "reserve0\n",
    "reserve1\n",
    "token0Price\n",
    "token1Price\n",
    "reserveUSD\n",
    "trackedReserveETH\n",
    "untrackedVolumeUSD\n",
    "volumeUSD\n",
    "totalSupply\n",
    "liquidityProviderCount\n",
    "txCount\n",
    "\"\"\"\n",
    "\n",
    "for skip in range(0, pair_count, PAGE_SIZE):\n",
    "    page_query = f\"\"\"\n",
    "    {{\n",
    "        pairs(\n",
    "            where: {{ trackedReserveETH_gt: \"0\" }}\n",
    "            first: {PAGE_SIZE},\n",
    "            skip: {skip},\n",
    "            orderBy: trackedReserveETH,\n",
    "            orderDirection: desc\n",
    "        ) {{\n",
    "        {fields}\n",
    "        }}\n",
    "    }}\n",
    "    \"\"\"\n",
    "    r = requests.post(thegraph_url, json={\"query\": page_query}, headers=headers)\n",
    "    data = r.json()[\"data\"][\"pairs\"]\n",
    "    all_pairs.extend(data)\n",
    "    print(f\"Fetched {len(data)} pairs (skip={skip})\")\n",
    "\n",
    "all_pairs"
   ]
  },
  {
   "cell_type": "markdown",
   "metadata": {},
   "source": [
    "### Save & Reload Snapshot for offline testing"
   ]
  },
  {
   "cell_type": "code",
   "execution_count": null,
   "metadata": {},
   "outputs": [],
   "source": [
    "output_path = \"/Volumes/Extreme SSD/arbot_data/UniswapV2.json\""
   ]
  },
  {
   "cell_type": "code",
   "execution_count": null,
   "metadata": {},
   "outputs": [],
   "source": [
    "with open(output_path, \"w\") as f:\n",
    "    json.dump(all_pairs, f, indent=2)"
   ]
  },
  {
   "cell_type": "code",
   "execution_count": null,
   "metadata": {},
   "outputs": [],
   "source": [
    "import json\n",
    "with open(output_path, \"r\") as f:\n",
    "    loaded_pairs = json.load(f)"
   ]
  },
  {
   "cell_type": "markdown",
   "metadata": {},
   "source": [
    "#### Filtering/Preprocessing the liquidity pairs"
   ]
  },
  {
   "cell_type": "code",
   "execution_count": null,
   "metadata": {},
   "outputs": [],
   "source": [
    "# Filtering conditions for pairs will go here...\n",
    "\n",
    "trackedReserveETH_min = 10.0 # Set minimum reserve value size\n",
    "\n",
    "filtered_pairs = []\n",
    "for p in loaded_pairs:\n",
    "\n",
    "    # 1) Zero reserves out\n",
    "    if Decimal(p[\"reserve0\"]) == Decimal(0.00) or Decimal(p[\"reserve1\"]) == Decimal(0.00):\n",
    "        continue\n",
    "    \n",
    "    # 2) Negligible size reserves out\n",
    "    if Decimal(p[\"trackedReserveETH\"]) < Decimal(trackedReserveETH_min):\n",
    "        continue\n",
    "\n",
    "\n",
    "    # Other filtering conditions here...\n",
    "\n",
    "\n",
    "    filtered_pairs.append(p)"
   ]
  },
  {
   "cell_type": "code",
   "execution_count": null,
   "metadata": {},
   "outputs": [],
   "source": [
    "len(filtered_pairs)"
   ]
  },
  {
   "cell_type": "markdown",
   "metadata": {},
   "source": [
    "#### Constructing Graph; Defining Graph class"
   ]
  },
  {
   "cell_type": "code",
   "execution_count": null,
   "metadata": {},
   "outputs": [],
   "source": [
    "# Declare global Uniswap V2 fees here\n",
    "fee = Decimal(0.003)\n",
    "F: Decimal = 1 - fee\n",
    "\n",
    "# These may need to be scoped inside graph later\n",
    "forward_weight  = lambda pair : Decimal(F) * (Decimal(pair[\"reserve1\"]) / Decimal(pair[\"reserve0\"]))\n",
    "backward_weight = lambda pair : Decimal(F) * (Decimal(pair[\"reserve0\"]) / Decimal(pair[\"reserve1\"]))\n",
    "\n",
    "@dataclass(frozen=True)\n",
    "class Edge:\n",
    "    source: str\n",
    "    target: str\n",
    "    weight: Decimal\n",
    "    pool_id: str\n",
    "\n",
    "class Graph:\n",
    "    def __init__(self):\n",
    "        self.nodes: Dict[str, dict] = {}\n",
    "        self.adj: Dict[str, List[Edge]] = defaultdict(list)\n",
    "\n",
    "    def add_pair(self, pair: dict):\n",
    "        s, d = pair['token0'], pair['token1']\n",
    "        id_s, id_d = s['id'], d['id']\n",
    "\n",
    "        # store node data once\n",
    "        self.nodes.setdefault(id_s, s)\n",
    "        self.nodes.setdefault(id_d, d)\n",
    "\n",
    "        # attach two directed edges\n",
    "        self.adj[id_s].append(Edge(\n",
    "            source=id_s,\n",
    "            target=id_d,\n",
    "            weight=forward_weight(pair),\n",
    "            pool_id=pair['id'])\n",
    "        )\n",
    "        self.adj[id_d].append(Edge(\n",
    "            source=id_d,\n",
    "            target=id_s,\n",
    "            weight=backward_weight(pair),\n",
    "            pool_id=pair['id'])\n",
    "        )\n",
    "    \n",
    "    def load_from_list(self, pairs: List[dict]):\n",
    "        for p in pairs:\n",
    "            self.add_pair(p)\n",
    "\n",
    "g = Graph()\n",
    "g.load_from_list(filtered_pairs)"
   ]
  },
  {
   "cell_type": "markdown",
   "metadata": {},
   "source": [
    "#### Analyze the Graph"
   ]
  },
  {
   "cell_type": "code",
   "execution_count": null,
   "metadata": {},
   "outputs": [],
   "source": [
    "# Sort by outdegree\n",
    "\n",
    "outdeg = {node_id: len(edges) for node_id, edges in g.adj.items()}\n",
    "sorted_by_outdeg = sorted(outdeg.items(), key=lambda kv: kv[1], reverse=True)\n",
    "\n",
    "ranking = sorted_by_outdeg\n",
    "symbols = [g.nodes[node_id][\"symbol\"] for node_id, _ in ranking ]\n",
    "counts = [degree for _, degree in ranking]"
   ]
  },
  {
   "cell_type": "code",
   "execution_count": null,
   "metadata": {},
   "outputs": [],
   "source": [
    "# Sort pairs by 'trackedReserveETH'\n",
    "sorted_by_trackedReserveETH = sorted(filtered_pairs, key=lambda p: Decimal(p['trackedReserveETH']), reverse=True)"
   ]
  },
  {
   "cell_type": "markdown",
   "metadata": {},
   "source": [
    "#### Prune the graph"
   ]
  },
  {
   "cell_type": "code",
   "execution_count": null,
   "metadata": {},
   "outputs": [],
   "source": [
    "# Define few pruning/preprocessing functions\n",
    "def min_outdeg(graph: Graph, min_outdeg) -> Graph:\n",
    "\n",
    "    # Initialize some empty graph\n",
    "    pruned = Graph()\n",
    "\n",
    "    # Select \"survining\" nodes\n",
    "    survivors = {node for node, edges in graph.adj.items() if len(edges) >= min_outdeg}\n",
    "\n",
    "    # Copy node ids\n",
    "    for node_id in survivors:\n",
    "        pruned.nodes[node_id] = graph.nodes[node_id]\n",
    "    \n",
    "    # Copy edges iff both ends are in survivors...\n",
    "    for src, edges in graph.adj.items():\n",
    "        if src not in survivors:\n",
    "            continue\n",
    "        for e in edges:\n",
    "            if e.target in survivors:\n",
    "                pruned.adj[src].append(e)\n",
    "    return pruned\n",
    "\n",
    "\n",
    "# Other pruning funcs here...\n",
    "\n",
    "\n",
    "pruned_g = min_outdeg(g, min_outdeg=2)\n"
   ]
  },
  {
   "cell_type": "code",
   "execution_count": null,
   "metadata": {},
   "outputs": [],
   "source": [
    "len(pruned_g.nodes)"
   ]
  },
  {
   "cell_type": "markdown",
   "metadata": {},
   "source": [
    "#### Preprocess the graph"
   ]
  },
  {
   "cell_type": "code",
   "execution_count": null,
   "metadata": {},
   "outputs": [],
   "source": [
    "def to_nlog_graph(graph: Graph) -> Graph:\n",
    "\n",
    "    # Start with new graph from scratch\n",
    "    logg = Graph()\n",
    "\n",
    "    # Copy all nodes\n",
    "    logg.nodes = graph.nodes.copy()\n",
    "\n",
    "    # Rebuild new edges with transformed weights\n",
    "    for src, edges in graph.adj.items():\n",
    "        for e in edges:\n",
    "            w = float(e.weight)\n",
    "            log_w = -math.log(w)\n",
    "            logg.adj[src].append(Edge(\n",
    "                source=e.source,\n",
    "                target=e.target,\n",
    "                weight=Decimal(log_w),\n",
    "                pool_id=e.pool_id\n",
    "            ))\n",
    "    return logg\n",
    "\n",
    "\n",
    "\n",
    "# Other preprocessing funcs here ...\n",
    "# e.g. \"bake in\" gas fees for each transition etc.\n",
    "\n",
    "\n",
    "nlog_g = to_nlog_graph(pruned_g)"
   ]
  },
  {
   "cell_type": "markdown",
   "metadata": {},
   "source": [
    "#### Modified Bellman-Ford on Graph Implementation"
   ]
  },
  {
   "cell_type": "code",
   "execution_count": null,
   "metadata": {},
   "outputs": [],
   "source": [
    "### Helpers ###\n",
    "\n",
    "# Map log weights back to original weights\n",
    "def map_to_pruned_edges(pruned_g: Graph,\n",
    "                        log_cycle: List[Edge]\n",
    "                       ) -> List[Edge]:\n",
    "    real_cycle: List[Edge] = []\n",
    "    for le in log_cycle:\n",
    "        matches = [e for e in pruned_g.adj[le.source]\n",
    "                   if e.target == le.target and e.pool_id == le.pool_id]\n",
    "        real_cycle.append(matches[0])\n",
    "    return real_cycle\n",
    "\n",
    "\n",
    "def cycle_product(edges: List[Edge]) -> Decimal:\n",
    "    # Simple naive, not handling exceptions\n",
    "    total = Decimal(1)\n",
    "    for e in edges:\n",
    "        total *= e.weight\n",
    "    return total\n",
    "\n",
    "def cycle_symbols(graph: Graph, edges: List[Edge]) -> List[str]:\n",
    "    return [graph.nodes[some_edge.source][\"symbol\"] for some_edge in edges] + [graph.nodes[edges[-1].target][\"symbol\"]]\n",
    "\n",
    "\n",
    "### BF ###\n",
    "\n",
    "# For now, only impose max_len cycle length as only modification\n",
    "# Algo will be later further modified...\n",
    "\n",
    "def find_negative_cycle(\n",
    "    graph: Graph,\n",
    "    max_len: int\n",
    ") -> Optional[List[Edge]]:\n",
    "    \"\"\"\n",
    "    Bellman–Ford with a supersource; returns a negative cycle as a list of Edge\n",
    "    (in forward order), or None if no cycle of length <= max_len exists.\n",
    "    \"\"\"\n",
    "    # 1) Initialize distances and predecessor‐edges\n",
    "    dist = {node: Decimal(0) for node in graph.nodes}\n",
    "    pred_edge: dict[str, Optional[Edge]] = {node: None for node in graph.nodes}\n",
    "\n",
    "    # 2) Relax edges up to max_len times\n",
    "    for _ in range(max_len):\n",
    "        updated = False\n",
    "        for u, edges in graph.adj.items():\n",
    "            for e in edges:\n",
    "                v = e.target\n",
    "                if dist[u] + e.weight < dist[v]:\n",
    "                    dist[v] = dist[u] + e.weight\n",
    "                    pred_edge[v] = e\n",
    "                    updated = True\n",
    "        if not updated:\n",
    "            break\n",
    "\n",
    "    # 3) Check for any further relaxable edge ⇒ negative cycle\n",
    "    for u, edges in graph.adj.items():\n",
    "        for e in edges:\n",
    "            v = e.target\n",
    "            if dist[u] + e.weight < dist[v]:\n",
    "                # We found a cycle; now reconstruct it as a list of Edges\n",
    "                # Step A: walk back max_len hops to ensure we land inside the cycle\n",
    "                cur = v\n",
    "                for _ in range(max_len):\n",
    "                    cur = pred_edge[cur].source\n",
    "\n",
    "                # Step B: collect edges until we loop back to `cur`\n",
    "                start = cur\n",
    "                cycle_edges: List[Edge] = []\n",
    "                while True:\n",
    "                    edge_back = pred_edge[cur]\n",
    "                    cycle_edges.append(edge_back)\n",
    "                    cur = edge_back.source\n",
    "                    if cur == start:\n",
    "                        break\n",
    "\n",
    "                # Step C: reverse to get the forward traversal order\n",
    "                cycle_edges.reverse()\n",
    "                return cycle_edges\n",
    "    return None\n",
    "\n",
    "\n",
    "# Recursive func removing one edge each time, to enumerate all the cycles\n",
    "def enumerate_cycles(\n",
    "        graph: Graph,\n",
    "        max_len: int,\n",
    "    ) -> List[List[Edge]]:\n",
    "\n",
    "    g = deepcopy(graph)\n",
    "    cycles: List[List[Edge]] = []\n",
    "\n",
    "    while True:\n",
    "        cycle = find_negative_cycle(g, max_len)\n",
    "        if cycle is None:\n",
    "            break\n",
    "        cycles.append(cycle)\n",
    "\n",
    "        # Remove first edge of cycle from graph and then re-run to find another fresh cycle\n",
    "        e = cycle[0]\n",
    "        g.adj[e.source] = [\n",
    "            edge for edge in g.adj[e.source]\n",
    "            if not (edge.target == e.target and edge.pool_id == e.pool_id)\n",
    "        ]\n",
    "    \n",
    "    return cycles\n",
    "\n",
    "\n",
    "# Find all cycles at practically unbounded length\n",
    "log_cycles = enumerate_cycles(nlog_g, max_len=100)\n",
    "real_cycles = [map_to_pruned_edges(pruned_g, edges) for edges in log_cycles]\n",
    "\n",
    "# Print out the symbols for clarity\n",
    "[cycle_symbols(pruned_g, edges) for edges in log_cycles]"
   ]
  },
  {
   "cell_type": "code",
   "execution_count": null,
   "metadata": {},
   "outputs": [],
   "source": [
    "# Check all nodes connected to \"USD\" giving anomaly\n",
    "[node for node in pruned_g.nodes if pruned_g.nodes[node][\"symbol\"] == \"USD\"]\n",
    "[pruned_g.nodes[edge.target][\"symbol\"] for edge in pruned_g.adj['0xd233d1f6fd11640081abb8db125f722b5dc729dc']]"
   ]
  },
  {
   "cell_type": "code",
   "execution_count": null,
   "metadata": {},
   "outputs": [],
   "source": [
    "# Check if cycle products add up\n",
    "[cycle_product(edges) for edges in real_cycles]"
   ]
  },
  {
   "cell_type": "markdown",
   "metadata": {},
   "source": [
    "#### Simulate Cycle Swap Execution on EVM UniswapV2 Router Contract / CFMM"
   ]
  },
  {
   "cell_type": "code",
   "execution_count": null,
   "metadata": {},
   "outputs": [],
   "source": [
    "# Self-calculation: Probably has some rounding defects...\n",
    "\n",
    "get_pair = lambda pool_id : next((pair for pair in filtered_pairs if pair[\"id\"] == pool_id), None)\n",
    "\n",
    "def get_reserve(some_edge, node_id) -> Decimal:\n",
    "    pair = get_pair(some_edge.pool_id)\n",
    "\n",
    "    if pair[\"token0\"][\"id\"] == node_id:\n",
    "        return Decimal(pair[\"reserve0\"])\n",
    "    else:\n",
    "        return Decimal(pair[\"reserve1\"])\n",
    "\n",
    "swap = lambda x, y, dx : Decimal(F * y * dx) / Decimal(x + F * dx)\n",
    "\n",
    "def my_swap(edges: List[Edge], dx):\n",
    "\n",
    "    curr_input = dx\n",
    "\n",
    "    for some_edge in edges:\n",
    "        x = get_reserve(some_edge, some_edge.source)\n",
    "        y = get_reserve(some_edge, some_edge.target)\n",
    "\n",
    "        curr_out = swap(x, y, curr_input)\n",
    "        curr_input = curr_out\n",
    "    \n",
    "    return curr_out\n",
    "\n",
    "\n",
    "# Try fetch fraction of reserve\n",
    "test_cycle = real_cycles[-3]\n",
    "start_edge = test_cycle[0]\n",
    "\n",
    "dx = int(get_reserve(start_edge, start_edge.source) / 1000)\n",
    "\n",
    "dx, my_swap(test_cycle, dx)"
   ]
  },
  {
   "cell_type": "code",
   "execution_count": null,
   "metadata": {},
   "outputs": [],
   "source": [
    "# EVM UniswapV2 Router Contract calculation: uses integer math for the multiplications\n",
    "\n",
    "# 0. set up RPC w3 connection\n",
    "api_key = \"75db4a2f907d4525866a728681b3b458\"\n",
    "infura_url = f\"https://mainnet.infura.io/v3/{api_key}\" # select mainnet or sepolia here\n",
    "w3 = Web3(Web3.HTTPProvider(infura_url))\n",
    "\n",
    "# 1. Load the Router contract using etherscan API\n",
    "def fetch_abi(address: str) -> list:\n",
    "    ETHERSCAN_API_KEY = \"QGS1VSEPNEHZ8W4M686QCNM1Z6WGIT14Q1\"\n",
    "    url = (\n",
    "      \"https://api.etherscan.io/api\"\n",
    "      f\"?module=contract&action=getabi&address={address}\"\n",
    "      f\"&apikey={ETHERSCAN_API_KEY}\"\n",
    "    )\n",
    "    resp = requests.get(url).json()\n",
    "    return json.loads(resp[\"result\"])\n",
    "\n",
    "router_address = Web3.to_checksum_address(\"0x7a250d5630b4cf539739df2c5dacb4c659f2488d\")\n",
    "router_abi     = fetch_abi(router_address)\n",
    "router         = w3.eth.contract(address=router_address, abi=router_abi)\n",
    "\n",
    "# 2. Router swap routine, taking already-instantiated outer router contract\n",
    "def router_swap(edges: List[Edge], graph: Graph, dx: float):\n",
    "    # Generate list of intermediary tokens\n",
    "    tokens: List[dict] = [graph.nodes[some_edge.source] for some_edge in edges]\n",
    "    tokens.append(graph.nodes[edges[-1].target]) # final token to wrap up path\n",
    "\n",
    "    # Router requires a path of contract addresses, and an initial integer input amount\n",
    "    path = [Web3.to_checksum_address(token[\"id\"]) for token in tokens]\n",
    "    amounts = router.functions.getAmountsOut( int(dx * 10 ** int(tokens[0][\"decimals\"])) , path).call()\n",
    "\n",
    "    return amounts [-1] / 10 ** int(tokens[-1][\"decimals\"])\n",
    "  \n",
    "\n",
    "# 3. Call here with same dx value set above\n",
    "dx, router_swap(test_cycle, pruned_g, dx)"
   ]
  },
  {
   "cell_type": "markdown",
   "metadata": {},
   "source": [
    "### Geth client setup"
   ]
  },
  {
   "cell_type": "code",
   "execution_count": null,
   "metadata": {},
   "outputs": [],
   "source": [
    "my_password = \"secure_password\"\n",
    "keystore_path = \"keystore.json\"\n",
    "\n",
    "with open(keystore_path, \"r\") as f:\n",
    "    keystore_json = json.load(f)\n",
    "\n",
    "ex_privkey = w3.eth.account.decrypt(keystore_json, my_password)\n",
    "ex_account = w3.eth.account.from_key(ex_privkey)\n",
    "\n",
    "my_account = ex_account"
   ]
  }
 ],
 "metadata": {
  "kernelspec": {
   "display_name": "myenv",
   "language": "python",
   "name": "python3"
  },
  "language_info": {
   "codemirror_mode": {
    "name": "ipython",
    "version": 3
   },
   "file_extension": ".py",
   "mimetype": "text/x-python",
   "name": "python",
   "nbconvert_exporter": "python",
   "pygments_lexer": "ipython3",
   "version": "3.13.1"
  }
 },
 "nbformat": 4,
 "nbformat_minor": 2
}
