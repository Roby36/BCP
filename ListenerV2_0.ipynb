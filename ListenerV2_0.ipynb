{
 "cells": [
  {
   "cell_type": "markdown",
   "metadata": {},
   "source": [
    "### Imports"
   ]
  },
  {
   "cell_type": "code",
   "execution_count": null,
   "metadata": {},
   "outputs": [],
   "source": [
    "from web3 import Web3\n",
    "import requests\n",
    "import json\n",
    "\n",
    "\n",
    "from web3 import AsyncWeb3\n",
    "from web3.providers.persistent import WebSocketProvider\n",
    "import asyncio\n",
    "import threading\n",
    "from time import sleep\n",
    "from typing import List\n",
    "import random\n",
    "import os"
   ]
  },
  {
   "cell_type": "markdown",
   "metadata": {},
   "source": [
    "### Funcs"
   ]
  },
  {
   "cell_type": "code",
   "execution_count": null,
   "metadata": {},
   "outputs": [],
   "source": [
    "# 1. Load the Router contract using etherscan API\n",
    "def fetch_abi(address: str) -> list:\n",
    "    ETHERSCAN_API_KEY = \"QGS1VSEPNEHZ8W4M686QCNM1Z6WGIT14Q1\"\n",
    "    url = (\n",
    "      \"https://api.etherscan.io/api\"\n",
    "      f\"?module=contract&action=getabi&address={address}\"\n",
    "      f\"&apikey={ETHERSCAN_API_KEY}\"\n",
    "    )\n",
    "    resp = requests.get(url).json()\n",
    "    return json.loads(resp[\"result\"])\n"
   ]
  },
  {
   "cell_type": "markdown",
   "metadata": {},
   "source": [
    "### Initializations"
   ]
  },
  {
   "cell_type": "code",
   "execution_count": null,
   "metadata": {},
   "outputs": [],
   "source": [
    "# 0. set up RPC w3 connection\n",
    "api_key = \"75db4a2f907d4525866a728681b3b458\"\n",
    "infura_url = f\"https://mainnet.infura.io/v3/{api_key}\" # select mainnet or sepolia here\n",
    "w3 = Web3(Web3.HTTPProvider(infura_url))"
   ]
  },
  {
   "cell_type": "markdown",
   "metadata": {},
   "source": [
    "### Keeping track & serializing all pairs in factory contract"
   ]
  },
  {
   "cell_type": "code",
   "execution_count": null,
   "metadata": {},
   "outputs": [],
   "source": [
    "# Instantiate factory contract\n",
    "factory_address_string = \"0x5C69bEe701ef814a2B6a3EDD4B1652CB9cc5aA6f\"\n",
    "factory_address = Web3.to_checksum_address(factory_address_string)\n",
    "factory_abi     = fetch_abi(factory_address)\n",
    "factory         = w3.eth.contract(address=factory_address, abi=factory_abi)\n",
    "\n",
    "# Shared state globals\n",
    "PAIRADDR_PATH = \"/Volumes/Extreme SSD/arbot_data/pairaddr.json\"\n",
    "DEPLOY_BLOCK = 10_008_355\n",
    "pairaddr: List[str] = []\n",
    "last_synced_block = 0\n",
    "pairaddr_lock = asyncio.Lock()\n",
    "initial_update = asyncio.Event()\n",
    "pair_created_topic = w3.keccak(text=\"PairCreated(address,address,address,uint256)\")\n",
    "\n",
    "\n",
    "# (0) Functions to read/write from disk\n",
    "def load_state():\n",
    "    global pairaddr, last_synced_block\n",
    "    if os.path.isfile(PAIRADDR_PATH):\n",
    "        with open(PAIRADDR_PATH, \"r\") as f:\n",
    "            data = json.load(f)\n",
    "        last_synced_block = data.get(\"last_synced_block\", DEPLOY_BLOCK - 1)\n",
    "        pairaddr          = data.get(\"pairs\", [])\n",
    "    else:\n",
    "        last_synced_block = DEPLOY_BLOCK - 1\n",
    "        pairaddr          = []\n",
    "\n",
    "async def dump_state():\n",
    "    \"\"\" Write global pairaddr to disk atomically \"\"\"\n",
    "    # Assume lock already held\n",
    "    tmp_path = PAIRADDR_PATH + \".tmp\"\n",
    "    payload = {\n",
    "        \"last_synced_block\": last_synced_block,\n",
    "        \"pairs\": pairaddr,\n",
    "    }\n",
    "    with open(tmp_path, \"w\") as f:\n",
    "        json.dump(payload, f)\n",
    "    os.replace(tmp_path, PAIRADDR_PATH)\n",
    "\n",
    "\n",
    "# (1) Functions to fetch all new pairs created up to current block\n",
    "async def process_log_range(from_blk: int, to_blk: int) -> int:\n",
    "    global pairaddr, last_synced_block\n",
    "\n",
    "    logs = w3.eth.get_logs({\n",
    "        \"fromBlock\": from_blk,\n",
    "        \"toBlock\":   to_blk,\n",
    "        \"address\":   factory_address_string,\n",
    "        \"topics\":    [pair_created_topic],\n",
    "    })\n",
    "\n",
    "    # sort by (block, tx, log index)\n",
    "    logs.sort(key=lambda L: (\n",
    "        L[\"blockNumber\"],\n",
    "        L[\"transactionIndex\"],\n",
    "        L[\"logIndex\"],\n",
    "    ))\n",
    "    new = 0\n",
    "    for log in logs:\n",
    "        decoded_log = factory.events.PairCreated().process_log(log)\n",
    "        pair_addr = decoded_log[\"args\"][\"pair\"]\n",
    "        if pair_addr not in pairaddr:\n",
    "            pairaddr.append(pair_addr)\n",
    "            new += 1\n",
    "    last_synced_block = to_blk\n",
    "\n",
    "    # persist under lock\n",
    "    if new:\n",
    "        async with pairaddr_lock:\n",
    "            await dump_state()\n",
    "    \n",
    "    return new\n",
    "\n",
    "\n",
    "async def initial_pairaddr_sync(chunk_size: int = 50_000):\n",
    "    global pairaddr, last_synced_block\n",
    "\n",
    "    # 1) Historical catch-up in chunks\n",
    "    start = last_synced_block + 1\n",
    "    latest = w3.eth.block_number\n",
    "    for blk in range(start, latest + 1, chunk_size):\n",
    "        end = min(blk + chunk_size - 1, latest)\n",
    "        new = await process_log_range(blk, end)\n",
    "        print(f\"Processed blocks {blk}-{end}: {new} new → total {len(pairaddr)}\")\n",
    "        await asyncio.sleep(2)\n",
    "    \n",
    "    # 2) Final \"bridge\" to catch anything that happened during step 1\n",
    "    head = w3.eth.block_number\n",
    "    if head > last_synced_block:\n",
    "        new = await process_log_range(last_synced_block + 1, head)\n",
    "        print(f\"Bridge blocks {last_synced_block + 1}-{head}: {new} new → total {len(pairaddr)}\")\n",
    "    \n",
    "    # 3) Now that truly in-sync with chain head, open gate \n",
    "    initial_update.set()\n",
    "\n",
    "\n",
    "# (2) Functions to continuously monitor and update pairs\n",
    "async def _handle_pair_creation(log):\n",
    "    global last_synced_block\n",
    "    \"\"\" Called back on each new PairCreated log \"\"\"\n",
    "\n",
    "    # Wait until completion of intitial sync\n",
    "    await initial_update.wait()\n",
    "    \n",
    "    decoded_log = factory.events.PairCreated().process_log(log)\n",
    "    addr = decoded_log[\"args\"][\"pair\"]\n",
    "    async with pairaddr_lock:\n",
    "        if addr not in pairaddr:\n",
    "            pairaddr.append(addr)\n",
    "            last_synced_block = log[\"blockNumber\"]\n",
    "            await dump_state()\n",
    "            print(f\"Appended live pair {addr} (total now {len(pairaddr)})\")\n",
    "\n",
    "async def monitor_pairs():\n",
    "    async with AsyncWeb3(WebSocketProvider(f\"wss://mainnet.infura.io/ws/v3/{api_key}\")) as w3s:\n",
    "        sub_id = await w3s.eth.subscribe(\"logs\", {\n",
    "            \"address\": factory_address_string,\n",
    "            \"topics\": [pair_created_topic]\n",
    "        })\n",
    "        async for msg in w3s.socket.process_subscriptions():\n",
    "            await _handle_pair_creation(msg[\"result\"])"
   ]
  },
  {
   "cell_type": "code",
   "execution_count": null,
   "metadata": {},
   "outputs": [],
   "source": [
    "# Entrypoint: this thread runs indefinitely keeping pairaddr up to date\n",
    "async def main():\n",
    "\n",
    "    # 1. Load any existing dump\n",
    "    load_state()\n",
    "\n",
    "    await asyncio.gather(\n",
    "        # 2. Update historical pairs\n",
    "        initial_pairaddr_sync(),\n",
    "        # 3. launch continuous update thread\n",
    "        monitor_pairs(),\n",
    "    )\n",
    "\n",
    "await main()"
   ]
  },
  {
   "cell_type": "code",
   "execution_count": null,
   "metadata": {},
   "outputs": [],
   "source": [
    "# Testing\n",
    "def test_rand_pair():\n",
    "    test_i = random.randint(0, len(pairaddr) - 1)\n",
    "    assert( factory.functions.allPairs(test_i).call() == pairaddr[test_i] )\n",
    "    print(f\"Assertion passed for pair # {test_i}\")\n",
    "\n",
    "while True:\n",
    "    test_rand_pair()\n",
    "    sleep(1)"
   ]
  },
  {
   "cell_type": "code",
   "execution_count": 17,
   "metadata": {},
   "outputs": [
    {
     "data": {
      "text/plain": [
       "True"
      ]
     },
     "execution_count": 17,
     "metadata": {},
     "output_type": "execute_result"
    }
   ],
   "source": [
    "# Up to date?\n",
    "len(pairaddr) == factory.functions.allPairsLength().call()"
   ]
  },
  {
   "cell_type": "code",
   "execution_count": 12,
   "metadata": {},
   "outputs": [
    {
     "data": {
      "text/plain": [
       "True"
      ]
     },
     "execution_count": 12,
     "metadata": {},
     "output_type": "execute_result"
    }
   ],
   "source": [
    "curr_num = factory.functions.allPairsLength().call() - 10\n",
    "factory.functions.allPairs(curr_num).call() == pairaddr[curr_num]"
   ]
  },
  {
   "cell_type": "code",
   "execution_count": 18,
   "metadata": {},
   "outputs": [
    {
     "data": {
      "text/plain": [
       "'0xB4e16d0168e52d35CaCD2c6185b44281Ec28C9Dc'"
      ]
     },
     "execution_count": 18,
     "metadata": {},
     "output_type": "execute_result"
    }
   ],
   "source": [
    "pairaddr[0]"
   ]
  },
  {
   "cell_type": "code",
   "execution_count": null,
   "metadata": {},
   "outputs": [],
   "source": [
    "# Do all pair contracts use the same abi? (looks like they do, hence save unique abi under this pair_abi object)\n",
    "pair_num = -1\n",
    "\n",
    "pair_address = Web3.to_checksum_address(pairaddr[pair_num])\n",
    "pair_abi     = fetch_abi(pair_address)"
   ]
  },
  {
   "cell_type": "code",
   "execution_count": null,
   "metadata": {},
   "outputs": [],
   "source": []
  }
 ],
 "metadata": {
  "kernelspec": {
   "display_name": "myenv",
   "language": "python",
   "name": "python3"
  },
  "language_info": {
   "codemirror_mode": {
    "name": "ipython",
    "version": 3
   },
   "file_extension": ".py",
   "mimetype": "text/x-python",
   "name": "python",
   "nbconvert_exporter": "python",
   "pygments_lexer": "ipython3",
   "version": "3.13.1"
  }
 },
 "nbformat": 4,
 "nbformat_minor": 2
}
